{
  "nbformat": 4,
  "nbformat_minor": 0,
  "metadata": {
    "colab": {
      "provenance": [],
      "authorship_tag": "ABX9TyNKDN69E8hHR4+SIbQBkc97",
      "include_colab_link": true
    },
    "kernelspec": {
      "name": "python3",
      "display_name": "Python 3"
    },
    "language_info": {
      "name": "python"
    }
  },
  "cells": [
    {
      "cell_type": "markdown",
      "metadata": {
        "id": "view-in-github",
        "colab_type": "text"
      },
      "source": [
        "<a href=\"https://colab.research.google.com/github/satyamk795/multi-language-translaslator/blob/main/LanguageFlow_AI_Powered_Multi_Language_Translator.ipynb\" target=\"_parent\"><img src=\"https://colab.research.google.com/assets/colab-badge.svg\" alt=\"Open In Colab\"/></a>"
      ]
    },
    {
      "cell_type": "markdown",
      "source": [
        "# **LanguageFlow : AI-Powered Multi-Language Translator**\n",
        "\n",
        " LanguageFlow is a multilingual translation system that delivers human-quality translations across languages like English, Hindi, Spanish, French, and German. Leveraging advanced transformer models, this tool provides instant, context-aware translations while preserving cultural nuances and idiomatic expressions.The system features a lightweight architecture optimized for CPU deployment, ensuring fast performance without compromising accuracy. With its clean Gradio interface and optional privacy-focused local processing, LanguageFlow offers seamless cross-lingual interactions."
      ],
      "metadata": {
        "id": "V58JufJ3g3Li"
      }
    },
    {
      "cell_type": "markdown",
      "source": [
        "**STEP 1: INSTALL REQUIRED PACKAGES**"
      ],
      "metadata": {
        "id": "pz5iTgxMiRhA"
      }
    },
    {
      "cell_type": "code",
      "execution_count": null,
      "metadata": {
        "id": "MWi-FuUeI16-"
      },
      "outputs": [],
      "source": [
        "!pip install transformers torch --quiet\n",
        "print(\"✓ Packages installed successfully\")"
      ]
    },
    {
      "cell_type": "markdown",
      "source": [
        "**STEP 2: SETUP TRANSLATION MODELS**"
      ],
      "metadata": {
        "id": "bvBEPurhioKZ"
      }
    },
    {
      "cell_type": "code",
      "source": [
        "from transformers import pipeline\n",
        "import torch\n",
        "import gradio as gr\n",
        "\n",
        "DIRECT_TRANSLATIONS = {\n",
        "    ('English', 'Hindi'): 'Helsinki-NLP/opus-mt-en-hi',\n",
        "    ('Hindi', 'English'): 'Helsinki-NLP/opus-mt-hi-en',\n",
        "    ('English', 'French'): 'Helsinki-NLP/opus-mt-en-fr',\n",
        "    ('French', 'English'): 'Helsinki-NLP/opus-mt-fr-en',\n",
        "    ('English', 'Spanish'): 'Helsinki-NLP/opus-mt-en-es',\n",
        "    ('Spanish', 'English'): 'Helsinki-NLP/opus-mt-es-en',\n",
        "    ('English', 'German'): 'Helsinki-NLP/opus-mt-en-de',\n",
        "    ('German', 'English'): 'Helsinki-NLP/opus-mt-de-en',\n",
        "    ('French', 'Spanish'): 'Helsinki-NLP/opus-mt-fr-es',\n",
        "    ('Spanish', 'French'): 'Helsinki-NLP/opus-mt-es-fr',\n",
        "}\n",
        "\n",
        "SUPPORTED_LANGUAGES = ['English', 'Hindi', 'French', 'Spanish', 'German']\n",
        "\n",
        "translators = {}\n",
        "print(\"\\n🔄 LOADING DIRECT TRANSLATION MODELS...\")\n",
        "for (src, tgt), model_name in DIRECT_TRANSLATIONS.items():\n",
        "    try:\n",
        "        print(f\"• Loading {src} → {tgt}...\", end=' ')\n",
        "        translators[(src, tgt)] = pipeline(\n",
        "            \"translation\",\n",
        "            model=model_name,\n",
        "            device=-1\n",
        "        )\n",
        "        print(\"✓ Success\")\n",
        "    except Exception as e:\n",
        "        print(f\"✗ Failed: {str(e)}\")"
      ],
      "metadata": {
        "id": "TWdtb4gZVxBH"
      },
      "execution_count": null,
      "outputs": []
    },
    {
      "cell_type": "markdown",
      "source": [
        "**STEP 3: TRANSLATION FUNCTION**"
      ],
      "metadata": {
        "id": "HSwENV_IixFL"
      }
    },
    {
      "cell_type": "code",
      "source": [
        "def translate(text, source_lang, target_lang):\n",
        "    \"\"\"Handles translation without path labels\"\"\"\n",
        "    if not text.strip():\n",
        "        return \"Please enter text to translate\"\n",
        "\n",
        "    if (source_lang, target_lang) in translators:\n",
        "        try:\n",
        "            result = translators[(source_lang, target_lang)](text, max_length=400)\n",
        "            return result[0]['translation_text']\n",
        "        except Exception as e:\n",
        "            return f\"Translation error: {str(e)}\"\n",
        "\n",
        "\n",
        "    if (source_lang, 'English') in translators and ('English', target_lang) in translators:\n",
        "        try:\n",
        "            step1 = translators[(source_lang, 'English')](text, max_length=400)[0]['translation_text']\n",
        "            step2 = translators[('English', target_lang)](step1, max_length=400)[0]['translation_text']\n",
        "            return step2\n",
        "        except Exception as e:\n",
        "            return f\"Translation error: {str(e)}\"\n",
        "\n",
        "    if (source_lang, 'French') in translators and ('French', target_lang) in translators:\n",
        "        try:\n",
        "            step1 = translators[(source_lang, 'French')](text, max_length=400)[0]['translation_text']\n",
        "            step2 = translators[('French', target_lang)](step1, max_length=400)[0]['translation_text']\n",
        "            return step2\n",
        "        except Exception as e:\n",
        "            return f\"Translation error: {str(e)}\"\n",
        "\n",
        "    return f\"Translation from {source_lang} to {target_lang} not available\""
      ],
      "metadata": {
        "id": "azftcMC6f4Sf"
      },
      "execution_count": null,
      "outputs": []
    },
    {
      "cell_type": "markdown",
      "source": [
        "**STEP 4: GRADIO INTERFACE**"
      ],
      "metadata": {
        "id": "jBZKSkJWjr8J"
      }
    },
    {
      "cell_type": "code",
      "source": [
        "with gr.Blocks(title=\"AI-Powered Multi-Language Translator\") as app:\n",
        "    gr.Markdown(\"# 🌍 AI-Powered Multi-Language Translator\")\n",
        "\n",
        "    with gr.Row():\n",
        "        with gr.Column():\n",
        "            source_lang = gr.Dropdown(\n",
        "                label=\"From Language\",\n",
        "                choices=SUPPORTED_LANGUAGES,\n",
        "                value=\"Select source language...\"\n",
        "            )\n",
        "            input_text = gr.Textbox(\n",
        "                label=\"Original Text\",\n",
        "                placeholder=\"Enter text here...\",\n",
        "                lines=5\n",
        "            )\n",
        "\n",
        "        with gr.Column():\n",
        "            target_lang = gr.Dropdown(\n",
        "                label=\"To Language\",\n",
        "                choices=SUPPORTED_LANGUAGES,\n",
        "                value=\"Select target language...\"\n",
        "            )\n",
        "            output_text = gr.Textbox(\n",
        "                label=\"Translation Result\",\n",
        "                interactive=False,\n",
        "                lines=5\n",
        "            )\n",
        "\n",
        "    translate_btn = gr.Button(\"Translate\", variant=\"primary\")\n",
        "\n",
        "    translate_btn.click(\n",
        "        fn=translate,\n",
        "        inputs=[input_text, source_lang, target_lang],\n",
        "        outputs=output_text\n",
        "    )"
      ],
      "metadata": {
        "id": "4DgNBtgwYWbe"
      },
      "execution_count": null,
      "outputs": []
    },
    {
      "cell_type": "markdown",
      "source": [
        "**STEP 5: LAUNCHING THE APP**"
      ],
      "metadata": {
        "id": "BpCqiS23j2CS"
      }
    },
    {
      "cell_type": "code",
      "source": [
        "print(\"\\n Starting translator app...\")\n",
        "app.launch(share=True)"
      ],
      "metadata": {
        "id": "_O7UUnuHYjYH"
      },
      "execution_count": null,
      "outputs": []
    }
  ]
}